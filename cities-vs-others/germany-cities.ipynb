{
 "cells": [
  {
   "cell_type": "markdown",
   "metadata": {},
   "source": [
    "# Temperature in Cities vs other regions in Germany\n",
    "Requirements: pandas, geopandas, psycopg2 and folium (pip install ...)"
   ]
  },
  {
   "cell_type": "code",
   "execution_count": null,
   "metadata": {},
   "outputs": [],
   "source": [
    "import folium\n",
    "\n",
    "import pandas as pd\n",
    "import geopandas as gpd\n",
    "\n",
    "import psycopg2  # For postgres\n",
    "\n",
    "# Connect to database\n",
    "connection = psycopg2.connect(host=\"193.196.37.97\", database=\"postgres\",user=\"postgres\", password=\"SDAPraktikum2020\")\n",
    "cursor = connection.cursor()\n",
    "\n",
    "# Get all temps for stations in year 2010\n",
    "#airtemps2010 = pd.read_sql_query(\"SELECT sts.stations_id, sts.stationsname, vals.temperature_day, vals.messdatum_date FROM air_temperature_values as vals LEFT JOIN air_temperature_stations as sts ON vals.stations_id = sts.stations_id WHERE vals.messdatum_date >= date('2010-01-01') AND vals.messdatum_date <= date('2010-12-31')\", connection)\n",
    "#airtemps2010\n",
    "\n",
    "# Get all average temps for stations in year 2010\n",
    "avgtemps2010 = pd.read_sql_query(\"SELECT sts.stationsname, AVG(vals.temperature_day) as avg_temp_yr2010 FROM air_temperature_values as vals LEFT JOIN air_temperature_stations as sts ON vals.stations_id = sts.stations_id WHERE vals.messdatum_date >= date('2010-01-01') AND vals.messdatum_date <= date('2010-12-31') GROUP BY sts.stationsname\", connection)\n",
    "avgtemps2010"
   ]
  },
  {
   "cell_type": "code",
   "execution_count": null,
   "metadata": {
    "scrolled": true
   },
   "outputs": [],
   "source": [
    "# Load station list with Landkreise political regions\n",
    "stationsKreise = pd.read_csv(\"stations+counties.csv\")\n",
    "stationsKreise\n",
    "\n",
    "# Convert to geopandas data frame with geometry column\n",
    "geometry = gpd.points_from_xy(x=stationsKreise.geobreite_x, y=stationsKreise.geolaenge_x)\n",
    "stationsKreise = stationsKreise.drop(['stationshoehe_x', 'geobreite_x', 'geolaenge_x'], axis=1)\n",
    "stationsKreise = gpd.GeoDataFrame(stationsKreise, crs='EPSG:4326', geometry=geometry)  # \"EPSG:4326\" is WGS84 long-lat\n",
    "\n",
    "# Remove columns not needed here\n",
    "stationsKreise = stationsKreise.drop(['Unnamed: 0', 'von_datum', 'bis_datum'], axis=1)\n",
    "\n",
    "stationsKreise"
   ]
  },
  {
   "cell_type": "code",
   "execution_count": null,
   "metadata": {},
   "outputs": [],
   "source": [
    "# Join on temperatures table with statstationsname\n",
    "joined = avgtemps2010.set_index('stationsname').join(stationsKreise.set_index('stationsname'))\n",
    "joined"
   ]
  },
  {
   "cell_type": "code",
   "execution_count": null,
   "metadata": {},
   "outputs": [],
   "source": [
    "# Search for rows without Kreis avialble\n",
    "for row in joined.iterrows():\n",
    "    name, vals = row\n",
    "    avg, kreis, geom = vals\n",
    "    \n",
    "    kreisname = str(kreis)\n",
    "    if kreisname == \"nan\":\n",
    "        print(\"No Kreis for station\", name)"
   ]
  },
  {
   "cell_type": "code",
   "execution_count": null,
   "metadata": {
    "scrolled": true
   },
   "outputs": [],
   "source": [
    "# Create map focussed on Germany\n",
    "m = folium.Map(location=[51.3, 10.1], zoom_start=6)  # This zooms the map to focus on germany (coods 51.3, 10.1)\n",
    "\n",
    "# Add federal states overlay\n",
    "germany_political = 'deutschlandGeoJSON/2_bundeslaender/2_hoch.geo.json'\n",
    "\n",
    "folium.Choropleth(\n",
    "    geo_data=germany_political,\n",
    "    geo_str='choropleth',\n",
    "    #data=data,\n",
    "    #columns=['bundesland', 'avg_temp'],\n",
    "    #key_on = 'feature.properties.name',\n",
    "    fill_color='YlOrRd',\n",
    "    fill_opacity=0.7,\n",
    "    line_opacity=0.2,\n",
    "    legend_name='Temperature (celsius)',\n",
    "    highlight=True\n",
    ").add_to(m)\n",
    "\n",
    "# Add station markers from GeoPandas data frame\n",
    "m.add_child(folium.features.GeoJson(stationsKreise))\n",
    "\n",
    "# Display the map\n",
    "m"
   ]
  },
  {
   "cell_type": "code",
   "execution_count": null,
   "metadata": {},
   "outputs": [],
   "source": []
  },
  {
   "cell_type": "code",
   "execution_count": null,
   "metadata": {},
   "outputs": [],
   "source": [
    "# Save the map output\n",
    "#m.save('map.html')"
   ]
  },
  {
   "cell_type": "code",
   "execution_count": null,
   "metadata": {},
   "outputs": [],
   "source": [
    "# Exmaple of how to render a PNG from the html map created. Only for Safari (demo), you need to set your own browser if needed\n",
    "\n",
    "#import selenium.webdriver\n",
    "#import time\n",
    "#import os\n",
    "#driver = selenium.webdriver.Safari()\n",
    "\n",
    "#driver.set_window_size(1000, 800)  # choose a resolution\n",
    "#path = 'file://' + os.getcwd() + '/map.html'\n",
    "#path = path.replace(\" \", \"%20\")\n",
    "#driver.get(path)\n",
    "#time.sleep(5)\n",
    "#driver.save_screenshot('screenshot.png')"
   ]
  }
 ],
 "metadata": {
  "kernelspec": {
   "display_name": "Python 3",
   "language": "python",
   "name": "python3"
  },
  "language_info": {
   "codemirror_mode": {
    "name": "ipython",
    "version": 3
   },
   "file_extension": ".py",
   "mimetype": "text/x-python",
   "name": "python",
   "nbconvert_exporter": "python",
   "pygments_lexer": "ipython3",
   "version": "3.7.7"
  }
 },
 "nbformat": 4,
 "nbformat_minor": 4
}
