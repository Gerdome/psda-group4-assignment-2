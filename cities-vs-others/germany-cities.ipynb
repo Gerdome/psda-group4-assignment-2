{
 "cells": [
  {
   "cell_type": "markdown",
   "metadata": {},
   "source": [
    "# Temperature in Cities vs other regions in Germany\n",
    "Requirements: pandas, geopandas, psycopg2 and folium (pip install ...)"
   ]
  },
  {
   "cell_type": "code",
   "execution_count": null,
   "metadata": {},
   "outputs": [],
   "source": [
    "import folium\n",
    "\n",
    "import pandas as pd\n",
    "import geopandas as gpd\n",
    "\n",
    "import psycopg2  # For postgres\n",
    "\n",
    "# Connect to database\n",
    "connection = psycopg2.connect(host=\"193.196.37.97\", database=\"postgres\",user=\"postgres\", password=\"SDAPraktikum2020\")\n",
    "cursor = connection.cursor()\n",
    "\n",
    "# Get all temps for stations in year 2010\n",
    "#airtemps2010 = pd.read_sql_query(\"SELECT sts.stations_id, sts.stationsname, vals.temperature_day, vals.messdatum_date FROM air_temperature_values as vals LEFT JOIN air_temperature_stations as sts ON vals.stations_id = sts.stations_id WHERE vals.messdatum_date >= date('2010-01-01') AND vals.messdatum_date <= date('2010-12-31')\", connection)\n",
    "#airtemps2010\n",
    "\n",
    "# Get all average temps for stations in year 2010\n",
    "avgtemps2010 = pd.read_sql_query(\"SELECT sts.stationsname, AVG(vals.temperature_day) as avg_temp_yr2010 FROM air_temperature_values as vals LEFT JOIN air_temperature_stations as sts ON vals.stations_id = sts.stations_id WHERE vals.messdatum_date >= date('2010-01-01') AND vals.messdatum_date <= date('2010-12-31') GROUP BY sts.stationsname\", connection)\n",
    "avgtemps2010"
   ]
  },
  {
   "cell_type": "code",
   "execution_count": null,
   "metadata": {
    "scrolled": true
   },
   "outputs": [],
   "source": [
    "# Load station list with Landkreise political regions\n",
    "stationsKreise = pd.read_csv(\"stations+counties.csv\")\n",
    "stationsKreise\n",
    "\n",
    "# Convert to geopandas data frame with geometry column\n",
    "geometry = gpd.points_from_xy(x=stationsKreise.geobreite_x, y=stationsKreise.geolaenge_x)\n",
    "stationsKreise = stationsKreise.drop(['stationshoehe_x', 'geobreite_x', 'geolaenge_x'], axis=1)\n",
    "stationsKreise = gpd.GeoDataFrame(stationsKreise, crs='EPSG:4326', geometry=geometry)  # \"EPSG:4326\" is WGS84 long-lat\n",
    "\n",
    "# Remove columns not needed here\n",
    "stationsKreise = stationsKreise.drop(['Unnamed: 0', 'von_datum', 'bis_datum'], axis=1)\n",
    "\n",
    "stationsKreise"
   ]
  },
  {
   "cell_type": "code",
   "execution_count": null,
   "metadata": {},
   "outputs": [],
   "source": [
    "# Join on temperatures table with statstationsname\n",
    "joined = avgtemps2010.set_index('stationsname').join(stationsKreise.set_index('stationsname'))\n",
    "\n",
    "joined = gpd.GeoDataFrame(joined, crs='EPSG:4326', geometry='geometry')  # Re-add the geometry information\n",
    "joined"
   ]
  },
  {
   "cell_type": "code",
   "execution_count": null,
   "metadata": {},
   "outputs": [],
   "source": [
    "# Search for rows without Kreis avialble\n",
    "stationsWithoutKreis = []\n",
    "for row in joined.iterrows():\n",
    "    name, vals = row\n",
    "    avg, kreis, geom = vals\n",
    "    \n",
    "    kreisname = str(kreis)\n",
    "    if kreisname == \"nan\":\n",
    "        print(\"No Kreis for station\", name)\n",
    "        stationsWithoutKreis.append(name)"
   ]
  },
  {
   "cell_type": "code",
   "execution_count": null,
   "metadata": {},
   "outputs": [],
   "source": [
    "# Remove stations from list that have no kreis aka is NaN\n",
    "kreisTemps2010 = joined.dropna()\n",
    "kreisTemps2010"
   ]
  },
  {
   "cell_type": "code",
   "execution_count": null,
   "metadata": {},
   "outputs": [],
   "source": [
    "# Count stations per kreis\n",
    "stationsPerKreis = kreisTemps2010[['Landkreis', 'avg_temp_yr2010']].groupby(['Landkreis']).agg('count')\n",
    "stationsPerKreis.rename(columns={'avg_temp_yr2010':'Stations'}, inplace=True)\n",
    "stationsPerKreis = stationsPerKreis.sort_values(by=['Stations'])\n",
    "stationsPerKreis"
   ]
  },
  {
   "cell_type": "code",
   "execution_count": null,
   "metadata": {},
   "outputs": [],
   "source": [
    "# Visualize Stations density\n",
    "# Create map focussed on Germany\n",
    "densMap = folium.Map(location=[51.3, 10.1], zoom_start=6)  # This zooms the map to focus on germany (coods 51.3, 10.1)\n",
    "\n",
    "# Add federal states overlay\n",
    "germany_political = 'landkreise-in-germany.geojson'\n",
    "\n",
    "folium.Choropleth(\n",
    "    geo_data=germany_political,\n",
    "    geo_str='choropleth',\n",
    "    data=stationsPerKreis,\n",
    "    columns=[stationsPerKreis.index, 'Stations'],\n",
    "    key_on = 'feature.properties.name_2',\n",
    "    fill_color='YlOrRd',\n",
    "    fill_opacity=0.7,\n",
    "    line_opacity=0.2,\n",
    "    legend_name='Number of Stations',\n",
    "    highlight=True\n",
    ").add_to(densMap)\n",
    "\n",
    "densMap"
   ]
  },
  {
   "cell_type": "code",
   "execution_count": null,
   "metadata": {},
   "outputs": [],
   "source": [
    "# Now group by and average on Kreise\n",
    "kreisTemps2010avg = kreisTemps2010.groupby(['Landkreis']).mean()\n",
    "kreisTemps2010avg"
   ]
  },
  {
   "cell_type": "code",
   "execution_count": null,
   "metadata": {
    "scrolled": false
   },
   "outputs": [],
   "source": [
    "# Create map focussed on Germany\n",
    "m = folium.Map(location=[51.3, 10.1], zoom_start=6)  # This zooms the map to focus on germany (coods 51.3, 10.1)\n",
    "\n",
    "# Add federal states overlay\n",
    "germany_political = 'landkreise-in-germany.geojson'\n",
    "\n",
    "folium.Choropleth(\n",
    "    geo_data=germany_political,\n",
    "    geo_str='choropleth',\n",
    "    data=kreisTemps2010avg,\n",
    "    columns=[kreisTemps2010avg.index, 'avg_temp_yr2010'],\n",
    "    key_on = 'feature.properties.name_2',\n",
    "    fill_color='YlOrRd',\n",
    "    fill_opacity=0.7,\n",
    "    line_opacity=0.2,\n",
    "    legend_name='Temperature (celsius)',\n",
    "    highlight=True\n",
    ").add_to(m)\n",
    "\n",
    "# Add station markers from GeoPandas data frame\n",
    "#m.add_child(folium.features.GeoJson(stationsKreise))\n",
    "#m.add_child(folium.features.GeoJson(kreisTemps2010))\n",
    "\n",
    "\n",
    "# Display the map\n",
    "m"
   ]
  },
  {
   "cell_type": "code",
   "execution_count": null,
   "metadata": {},
   "outputs": [],
   "source": [
    "# Save the map output\n",
    "#m.save('map.html')"
   ]
  },
  {
   "cell_type": "code",
   "execution_count": null,
   "metadata": {},
   "outputs": [],
   "source": [
    "# Now filter for the major cities, down to ~500,000 population -- tmp workaround: use Bochum for Dortmund, nearest\n",
    "cities2009 = ['Berlin', 'Hamburg', 'München', 'Köln', 'Frankfurt am Main', 'Stuttgart', 'Düsseldorf', 'Bochum', 'Essen', 'Bremen', 'Region Hannover', 'Leipzig', 'Dresden', 'Nürnberg', 'Duisburg']\n",
    "\n",
    "# Check if they are directly available as Landkreise\n",
    "allMatched = True \n",
    "for c in cities2009:\n",
    "    if c not in kreisTemps2010avg.index:\n",
    "        print(\"No match\", c)\n",
    "        allMatched = False\n",
    "\n",
    "if allMatched:\n",
    "    print(\"All cities matched!\")"
   ]
  },
  {
   "cell_type": "code",
   "execution_count": null,
   "metadata": {},
   "outputs": [],
   "source": [
    "# Now cluster the cities together and compare them to everything else\n",
    "sumCities = 0.0\n",
    "sumOthers = 0.0\n",
    "\n",
    "countCities = 0\n",
    "countOthers = 0\n",
    "\n",
    "for row in kreisTemps2010avg.iterrows():\n",
    "    kreis, val = row\n",
    "    avgtemp = val['avg_temp_yr2010']\n",
    "    \n",
    "\n",
    "    if kreis in cities2009:\n",
    "        sumCities += avg\n",
    "        countCities += 1\n",
    "    else:\n",
    "        sumOthers += avg\n",
    "        countOthers += 1\n",
    "        \n",
    "avgCities = sumCities / float(countCities)\n",
    "avgOthers = sumOthers / float(countOthers)\n",
    "\n",
    "print(\"Cities:\", avgCities)\n",
    "print(\"Others:\", avgOthers)"
   ]
  },
  {
   "cell_type": "code",
   "execution_count": null,
   "metadata": {},
   "outputs": [],
   "source": []
  }
 ],
 "metadata": {
  "kernelspec": {
   "display_name": "Python 3",
   "language": "python",
   "name": "python3"
  },
  "language_info": {
   "codemirror_mode": {
    "name": "ipython",
    "version": 3
   },
   "file_extension": ".py",
   "mimetype": "text/x-python",
   "name": "python",
   "nbconvert_exporter": "python",
   "pygments_lexer": "ipython3",
   "version": "3.7.7"
  }
 },
 "nbformat": 4,
 "nbformat_minor": 4
}
