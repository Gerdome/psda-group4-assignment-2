{
 "cells": [
  {
   "cell_type": "markdown",
   "metadata": {},
   "source": [
    "# Example of interactive political map of Germany\n",
    "\n",
    "Requirements: pandas, (geopandas), psycopg2 and folium (pip install ...)\n",
    "\n",
    "This example plots a color map of average temeperatures on August 4th 2010 in all regions of Germany."
   ]
  },
  {
   "cell_type": "code",
   "execution_count": null,
   "metadata": {},
   "outputs": [],
   "source": [
    "import folium\n",
    "\n",
    "import pandas as pd\n",
    "#import geopandas as gpd\n",
    "\n",
    "import psycopg2  # For postgres\n",
    "\n",
    "# Connect to database\n",
    "connection = psycopg2.connect(host=\"193.196.37.97\", database=\"postgres\",user=\"postgres\", password=\"SDAPraktikum2020\")\n",
    "cursor = connection.cursor()\n",
    "\n",
    "# Get temperature average temeperature for all regions at 2010-08-04 from db\n",
    "data = pd.read_sql_query(\"SELECT bundesland, AVG(temperature_day) as avg_temp FROM air_temperature_values LEFT JOIN air_temperature_stations ON air_temperature_values.stations_id = air_temperature_stations.stations_id WHERE air_temperature_values.messdatum_date = date('2010-08-04') GROUP BY bundesland\", connection)\n",
    "data"
   ]
  },
  {
   "cell_type": "code",
   "execution_count": null,
   "metadata": {},
   "outputs": [],
   "source": [
    "# Create map focussed on Germany\n",
    "m = folium.Map(location=[51.3, 10.1], zoom_start=6)  # This zooms the map to focus on germany (coods 51.3, 10.1)\n",
    "\n",
    "# Add federal states overlay\n",
    "germany_political = 'deutschlandGeoJSON/2_bundeslaender/2_hoch.geo.json'\n",
    "\n",
    "folium.Choropleth(\n",
    "    geo_data=germany_political,\n",
    "    geo_str='choropleth',\n",
    "    data=data,\n",
    "    columns=['bundesland', 'avg_temp'],\n",
    "    key_on = 'feature.properties.name',\n",
    "    fill_color='YlOrRd',\n",
    "    fill_opacity=0.7,\n",
    "    line_opacity=0.2,\n",
    "    legend_name='Temperature (celsius)',\n",
    "    highlight=True\n",
    ").add_to(m)\n",
    "\n",
    "# Display the map\n",
    "m"
   ]
  },
  {
   "cell_type": "code",
   "execution_count": null,
   "metadata": {},
   "outputs": [],
   "source": [
    "# Save the map output\n",
    "#m.save('map.html')"
   ]
  },
  {
   "cell_type": "code",
   "execution_count": null,
   "metadata": {},
   "outputs": [],
   "source": [
    "# Exmaple of how to render a PNG from the html map created. Only for Safari (demo), you need to set your own browser if needed\n",
    "\n",
    "#import selenium.webdriver\n",
    "#import time\n",
    "#import os\n",
    "#driver = selenium.webdriver.Safari()\n",
    "\n",
    "#driver.set_window_size(1000, 800)  # choose a resolution\n",
    "#path = 'file://' + os.getcwd() + '/map.html'\n",
    "#path = path.replace(\" \", \"%20\")\n",
    "#driver.get(path)\n",
    "#time.sleep(5)\n",
    "#driver.save_screenshot('screenshot.png')"
   ]
  }
 ],
 "metadata": {
  "kernelspec": {
   "display_name": "Python 3",
   "language": "python",
   "name": "python3"
  },
  "language_info": {
   "codemirror_mode": {
    "name": "ipython",
    "version": 3
   },
   "file_extension": ".py",
   "mimetype": "text/x-python",
   "name": "python",
   "nbconvert_exporter": "python",
   "pygments_lexer": "ipython3",
   "version": "3.7.7"
  }
 },
 "nbformat": 4,
 "nbformat_minor": 4
}
