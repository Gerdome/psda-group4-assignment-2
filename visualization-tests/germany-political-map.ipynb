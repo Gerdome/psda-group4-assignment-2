{
 "cells": [
  {
   "cell_type": "markdown",
   "metadata": {},
   "source": [
    "# Example of interactive political map of Germany\n",
    "\n",
    "Requirements: pandas and folium (pip install folium)"
   ]
  },
  {
   "cell_type": "code",
   "execution_count": null,
   "metadata": {},
   "outputs": [],
   "source": [
    "import folium\n",
    "import pandas as pd\n",
    "\n",
    "# Create map focussed on Germany\n",
    "m = folium.Map(location=[51.3, 10.1], zoom_start=6)  # This zooms the map to focus on germany (coods 51.3, 10.1)\n",
    "\n",
    "# Create example annotation pandas data frame for some regions\n",
    "d = {'region': ['Bayern', 'Sachsen', 'Hamburg'], 'temperature': [15.0, 20.0, 25.0]}\n",
    "df = pd.DataFrame(data=d)\n",
    "\n",
    "# Add federal states overlay\n",
    "germany_political = 'deutschlandGeoJSON/2_bundeslaender/2_hoch.geo.json'\n",
    "\n",
    "folium.Choropleth(\n",
    "    geo_data=germany_political,\n",
    "    geo_str='choropleth',\n",
    "    data=df,\n",
    "    columns=['region', 'temperature'],\n",
    "    key_on = 'feature.properties.name',\n",
    "    fill_color='YlOrRd',\n",
    "    fill_opacity=0.7,\n",
    "    line_opacity=0.2,\n",
    "    legend_name='Temperature (celsius)',\n",
    "    highlight=True\n",
    ").add_to(m)\n",
    "\n",
    "# Display the map\n",
    "m"
   ]
  }
 ],
 "metadata": {
  "kernelspec": {
   "display_name": "Python 3",
   "language": "python",
   "name": "python3"
  },
  "language_info": {
   "codemirror_mode": {
    "name": "ipython",
    "version": 3
   },
   "file_extension": ".py",
   "mimetype": "text/x-python",
   "name": "python",
   "nbconvert_exporter": "python",
   "pygments_lexer": "ipython3",
   "version": "3.7.7"
  }
 },
 "nbformat": 4,
 "nbformat_minor": 4
}
